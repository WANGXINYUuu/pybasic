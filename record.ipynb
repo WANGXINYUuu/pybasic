{
 "cells": [
  {
   "cell_type": "markdown",
   "metadata": {},
   "source": [
    "## 随机数种子\n",
    "随机种子（Random Seed）是用于初始化随机数生成器的一个固定值。通过设置相同的随机种子，随机数生成器会产生相同的随机数序列，这对于实验和结果的可重复性至关重要。\n",
    "常见的随机操作包括：\n",
    "+ 数据集的随机拆分(如训练集和测试集的划分)\n",
    "+ 模型参数的随机初始化\n",
    "+ 数据增强中的随机变换"
   ]
  },
  {
   "cell_type": "code",
   "execution_count": 2,
   "metadata": {},
   "outputs": [
    {
     "name": "stdout",
     "output_type": "stream",
     "text": [
      "[[ 1.41561436 -1.0852864  -0.61630804]\n",
      " [-0.75691618  0.34704773  1.5564911 ]\n",
      " [-2.95634856  1.35908068  0.64834679]]\n",
      "0.0708089270590726 0.43458775374134095\n"
     ]
    }
   ],
   "source": [
    "# example of setting random seed for reproducibility\n",
    "# the results will be the same each time\n",
    "import numpy as np\n",
    "import random\n",
    "\n",
    "seed = 66\n",
    "np.random.seed(seed)\n",
    "random.seed(seed)\n",
    "\n",
    "random_matrix_first = np.random.randn(3, 3)\n",
    "print(random_matrix_first)\n",
    "random_data_one_first = random.random()\n",
    "random_data_two_first = random.random()\n",
    "print(random_data_one_first, random_data_two_first)"
   ]
  },
  {
   "cell_type": "code",
   "execution_count": 6,
   "metadata": {},
   "outputs": [
    {
     "name": "stdout",
     "output_type": "stream",
     "text": [
      "[[ 1.16813814  0.45637558  0.09738635]\n",
      " [-0.49153527  0.12930581 -2.02304008]\n",
      " [-1.97253238  0.0355577  -0.25578848]]\n",
      "0.9265221867221619 0.49491787839107704\n"
     ]
    }
   ],
   "source": [
    "# example of not setting random seed\n",
    "# the results will be different each time\n",
    "import numpy as np\n",
    "import random\n",
    "\n",
    "random_matrix_second = np.random.randn(3, 3)\n",
    "print(random_matrix_second)\n",
    "random_data_one_second = random.random()\n",
    "random_data_two_second = random.random()\n",
    "print(random_data_one_second, random_data_two_second)"
   ]
  }
 ],
 "metadata": {
  "kernelspec": {
   "display_name": "pytorch",
   "language": "python",
   "name": "python3"
  },
  "language_info": {
   "codemirror_mode": {
    "name": "ipython",
    "version": 3
   },
   "file_extension": ".py",
   "mimetype": "text/x-python",
   "name": "python",
   "nbconvert_exporter": "python",
   "pygments_lexer": "ipython3",
   "version": "3.11.3"
  }
 },
 "nbformat": 4,
 "nbformat_minor": 2
}
