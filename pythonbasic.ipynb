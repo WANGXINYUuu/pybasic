{
 "cells": [
  {
   "cell_type": "markdown",
   "metadata": {},
   "source": [
    "# yeild关键字\n",
    "**'yield'关键字用于定义生成器函数**。生成器函数与普通函数类似，但不同的是，生成器函数使用'yield'关键字而不是'return'来返回值。每次调用生成器的'__next__()'方法(或者在一个for循环中遍历它)时，生成器函数会在'yield'语句处暂停，并保存所有的状态信息，以便下次继续执行。这使得生成器非常适合于处理需要逐步生成大量数据的场景，而无需一次性将所有数据加载到内存中。"
   ]
  },
  {
   "cell_type": "code",
   "execution_count": null,
   "metadata": {},
   "outputs": [],
   "source": [
    "# example: basic\n",
    "def simple_generaotr():\n",
    "    yield 1\n",
    "    yield 2\n",
    "    yield 3\n",
    "\n",
    "gen = simple_generaotr()\n",
    "\n",
    "print(next(gen))\n",
    "print(next(gen))\n",
    "print(next(gen))\n",
    "print('-----------')\n",
    "for value in simple_generaotr():\n",
    "    print(value)\n",
    "\n",
    "print('-----------')\n",
    "\n",
    "# example: advanced generator——生成复杂数据流\n",
    "def fibonacci():\n",
    "    a, b = 0, 1\n",
    "    while True:\n",
    "        yield a\n",
    "        a, b = b, a+b\n",
    "\n",
    "for num in fibonacci():\n",
    "    if num > 12:\n",
    "        break\n",
    "    print(num)\n",
    "\n",
    "print('-----------')\n",
    "# example: generator expression\n",
    "gen_xper = (x*x for x in range(10))\n",
    "for x in gen_xper:\n",
    "    print(x)"
   ]
  },
  {
   "cell_type": "markdown",
   "metadata": {},
   "source": [
    "# iter()函数\n",
    "'iter()'函数用于返回一个对象的迭代器。迭代器是一个实现了'__iter__()'和'__next__()'方法的对象，允许你遍历其中的所有元素。'iter()'函数有两种使用方式：将可迭代对象转换为迭代器，以及创建自定义迭代器。可以通过实现'__iter__()'和'__next__()'方法来创建自定义可迭代对象和迭代器。"
   ]
  },
  {
   "cell_type": "code",
   "execution_count": null,
   "metadata": {},
   "outputs": [],
   "source": [
    "# 将可迭代对象转换为迭代器\n",
    "# 列表\n",
    "my_list= [1, 2, 3, 4]\n",
    "list_iter = iter(my_list)\n",
    "\n",
    "for i in list_iter:\n",
    "    print(i)\n",
    "\n",
    "print('-----------')\n",
    "# 字符串\n",
    "my_string = 'hello'\n",
    "string_iter = iter(my_string)\n",
    "\n",
    "for i in string_iter:\n",
    "    print(i)\n",
    "\n",
    "print('-----------')\n",
    "# 使用'iter()'创建自定义迭代器\n",
    "def countdonw(n):\n",
    "    while n > 0:\n",
    "        yield n\n",
    "        n -= 1\n",
    "\n",
    "# 创建生成器\n",
    "gen = countdonw(5)\n",
    "\n",
    "# 将生成器转化成迭代器\n",
    "gen_iter = iter(gen)\n",
    "\n",
    "print(next(gen_iter))\n",
    "print(next(gen_iter))\n",
    "print('-----------')\n",
    "# 使用iter(callable, sentinel)创建自定义迭代器 (可调用对象，哨兵值)\n",
    "import random\n",
    "def get_random_number():\n",
    "    return random.randint(0, 10)\n",
    "\n",
    "random_iter = iter(get_random_number, 7)\n",
    "for num in random_iter:\n",
    "    print(num)"
   ]
  },
  {
   "cell_type": "markdown",
   "metadata": {},
   "source": [
    "# 静态方法@staticmethod\n",
    "'@staticmethod'是python的一个装饰器，用于定义静态方法。静态方法属于类而不是类的实例，因此可以在不创建类实例的情况下调用。静态方法通常用于实现与类相关的功能，但不需要访问实例变量的情况。\n",
    "\n",
    "特性：\n",
    "+ 不依赖实例：静态方法不依赖于类的实例，无法访问实例属性和实例方法\n",
    "+ 使用场景：静态方法常用于工具函数或辅助函数，这些函数与类相关，但不需要访问实例变量\n"
   ]
  },
  {
   "cell_type": "code",
   "execution_count": 6,
   "metadata": {},
   "outputs": [
    {
     "name": "stdout",
     "output_type": "stream",
     "text": [
      "This is a static method\n",
      "This is an instance method\n"
     ]
    }
   ],
   "source": [
    "# define a staticmethod\n",
    "class Myclass:\n",
    "    @staticmethod\n",
    "    def my_static_method():\n",
    "        print('This is a static method')\n",
    "\n",
    "Myclass.my_static_method()  # This is a static method, no need to create an instance of the class\n",
    "\n",
    "# define a classmethod\n",
    "class Myclass2:\n",
    "    def instance_method(self):      # 需要一个self参数; 可以访问类的实例属性和实例方法\n",
    "        print('This is an instance method')\n",
    "obj = Myclass2()\n",
    "obj.instance_method()       # This is an instance method, need to create an instance of the class"
   ]
  },
  {
   "cell_type": "code",
   "execution_count": 9,
   "metadata": {},
   "outputs": [
    {
     "name": "stdout",
     "output_type": "stream",
     "text": [
      "valid_shapes:  torch.Size([1, 2, 2])\n",
      "torch.Size([1, 1200, 2, 2])\n"
     ]
    }
   ],
   "source": []
  }
 ],
 "metadata": {
  "kernelspec": {
   "display_name": "pytorch",
   "language": "python",
   "name": "python3"
  },
  "language_info": {
   "codemirror_mode": {
    "name": "ipython",
    "version": 3
   },
   "file_extension": ".py",
   "mimetype": "text/x-python",
   "name": "python",
   "nbconvert_exporter": "python",
   "pygments_lexer": "ipython3",
   "version": "3.11.3"
  }
 },
 "nbformat": 4,
 "nbformat_minor": 2
}
